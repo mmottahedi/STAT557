{
 "cells": [
  {
   "cell_type": "code",
   "execution_count": 1,
   "metadata": {
    "collapsed": false
   },
   "outputs": [],
   "source": [
    "import numpy as np\n",
    "import matplotlib.pyplot as plt\n",
    "from ggplot import *\n",
    "import pandas as pd\n",
    "%matplotlib inline\n",
    "from mpl_toolkits.mplot3d import Axes3D\n",
    "from sklearn.metrics import confusion_matrix\n",
    "import seaborn"
   ]
  },
  {
   "cell_type": "code",
   "execution_count": 2,
   "metadata": {
    "collapsed": false
   },
   "outputs": [],
   "source": [
    "train = pd.read_csv(\"Forest/train.csv\")\n",
    "test = pd.read_csv(\"Forest/test.csv\")"
   ]
  },
  {
   "cell_type": "code",
   "execution_count": 3,
   "metadata": {
    "collapsed": false
   },
   "outputs": [
    {
     "data": {
      "text/html": [
       "<div>\n",
       "<table border=\"1\" class=\"dataframe\">\n",
       "  <thead>\n",
       "    <tr style=\"text-align: right;\">\n",
       "      <th></th>\n",
       "      <th>Elevation</th>\n",
       "      <th>Aspect</th>\n",
       "      <th>Slope</th>\n",
       "      <th>Horizontal_Distance_To_Hydrology</th>\n",
       "      <th>Vertical_Distance_To_Hydrology</th>\n",
       "      <th>Horizontal_Distance_To_Roadways</th>\n",
       "      <th>Hillshade_9am</th>\n",
       "      <th>Hillshade_Noon</th>\n",
       "      <th>Hillshade_3pm</th>\n",
       "      <th>Horizontal_Distance_To_Fire_Points</th>\n",
       "      <th>...</th>\n",
       "      <th>Soil_Type31</th>\n",
       "      <th>Soil_Type32</th>\n",
       "      <th>Soil_Type33</th>\n",
       "      <th>Soil_Type34</th>\n",
       "      <th>Soil_Type35</th>\n",
       "      <th>Soil_Type36</th>\n",
       "      <th>Soil_Type37</th>\n",
       "      <th>Soil_Type38</th>\n",
       "      <th>Soil_Type39</th>\n",
       "      <th>Soil_Type40</th>\n",
       "    </tr>\n",
       "  </thead>\n",
       "  <tbody>\n",
       "    <tr>\n",
       "      <th>0</th>\n",
       "      <td>2596</td>\n",
       "      <td>51</td>\n",
       "      <td>3</td>\n",
       "      <td>258</td>\n",
       "      <td>0</td>\n",
       "      <td>510</td>\n",
       "      <td>221</td>\n",
       "      <td>232</td>\n",
       "      <td>148</td>\n",
       "      <td>6279</td>\n",
       "      <td>...</td>\n",
       "      <td>0</td>\n",
       "      <td>0</td>\n",
       "      <td>0</td>\n",
       "      <td>0</td>\n",
       "      <td>0</td>\n",
       "      <td>0</td>\n",
       "      <td>0</td>\n",
       "      <td>0</td>\n",
       "      <td>0</td>\n",
       "      <td>0</td>\n",
       "    </tr>\n",
       "    <tr>\n",
       "      <th>1</th>\n",
       "      <td>2590</td>\n",
       "      <td>56</td>\n",
       "      <td>2</td>\n",
       "      <td>212</td>\n",
       "      <td>-6</td>\n",
       "      <td>390</td>\n",
       "      <td>220</td>\n",
       "      <td>235</td>\n",
       "      <td>151</td>\n",
       "      <td>6225</td>\n",
       "      <td>...</td>\n",
       "      <td>0</td>\n",
       "      <td>0</td>\n",
       "      <td>0</td>\n",
       "      <td>0</td>\n",
       "      <td>0</td>\n",
       "      <td>0</td>\n",
       "      <td>0</td>\n",
       "      <td>0</td>\n",
       "      <td>0</td>\n",
       "      <td>0</td>\n",
       "    </tr>\n",
       "    <tr>\n",
       "      <th>2</th>\n",
       "      <td>2804</td>\n",
       "      <td>139</td>\n",
       "      <td>9</td>\n",
       "      <td>268</td>\n",
       "      <td>65</td>\n",
       "      <td>3180</td>\n",
       "      <td>234</td>\n",
       "      <td>238</td>\n",
       "      <td>135</td>\n",
       "      <td>6121</td>\n",
       "      <td>...</td>\n",
       "      <td>0</td>\n",
       "      <td>0</td>\n",
       "      <td>0</td>\n",
       "      <td>0</td>\n",
       "      <td>0</td>\n",
       "      <td>0</td>\n",
       "      <td>0</td>\n",
       "      <td>0</td>\n",
       "      <td>0</td>\n",
       "      <td>0</td>\n",
       "    </tr>\n",
       "    <tr>\n",
       "      <th>3</th>\n",
       "      <td>2785</td>\n",
       "      <td>155</td>\n",
       "      <td>18</td>\n",
       "      <td>242</td>\n",
       "      <td>118</td>\n",
       "      <td>3090</td>\n",
       "      <td>238</td>\n",
       "      <td>238</td>\n",
       "      <td>122</td>\n",
       "      <td>6211</td>\n",
       "      <td>...</td>\n",
       "      <td>0</td>\n",
       "      <td>0</td>\n",
       "      <td>0</td>\n",
       "      <td>0</td>\n",
       "      <td>0</td>\n",
       "      <td>0</td>\n",
       "      <td>0</td>\n",
       "      <td>0</td>\n",
       "      <td>0</td>\n",
       "      <td>0</td>\n",
       "    </tr>\n",
       "    <tr>\n",
       "      <th>4</th>\n",
       "      <td>2595</td>\n",
       "      <td>45</td>\n",
       "      <td>2</td>\n",
       "      <td>153</td>\n",
       "      <td>-1</td>\n",
       "      <td>391</td>\n",
       "      <td>220</td>\n",
       "      <td>234</td>\n",
       "      <td>150</td>\n",
       "      <td>6172</td>\n",
       "      <td>...</td>\n",
       "      <td>0</td>\n",
       "      <td>0</td>\n",
       "      <td>0</td>\n",
       "      <td>0</td>\n",
       "      <td>0</td>\n",
       "      <td>0</td>\n",
       "      <td>0</td>\n",
       "      <td>0</td>\n",
       "      <td>0</td>\n",
       "      <td>0</td>\n",
       "    </tr>\n",
       "  </tbody>\n",
       "</table>\n",
       "<p>5 rows × 54 columns</p>\n",
       "</div>"
      ],
      "text/plain": [
       "   Elevation  Aspect  Slope  Horizontal_Distance_To_Hydrology  \\\n",
       "0       2596      51      3                               258   \n",
       "1       2590      56      2                               212   \n",
       "2       2804     139      9                               268   \n",
       "3       2785     155     18                               242   \n",
       "4       2595      45      2                               153   \n",
       "\n",
       "   Vertical_Distance_To_Hydrology  Horizontal_Distance_To_Roadways  \\\n",
       "0                               0                              510   \n",
       "1                              -6                              390   \n",
       "2                              65                             3180   \n",
       "3                             118                             3090   \n",
       "4                              -1                              391   \n",
       "\n",
       "   Hillshade_9am  Hillshade_Noon  Hillshade_3pm  \\\n",
       "0            221             232            148   \n",
       "1            220             235            151   \n",
       "2            234             238            135   \n",
       "3            238             238            122   \n",
       "4            220             234            150   \n",
       "\n",
       "   Horizontal_Distance_To_Fire_Points     ...       Soil_Type31  Soil_Type32  \\\n",
       "0                                6279     ...                 0            0   \n",
       "1                                6225     ...                 0            0   \n",
       "2                                6121     ...                 0            0   \n",
       "3                                6211     ...                 0            0   \n",
       "4                                6172     ...                 0            0   \n",
       "\n",
       "   Soil_Type33  Soil_Type34  Soil_Type35  Soil_Type36  Soil_Type37  \\\n",
       "0            0            0            0            0            0   \n",
       "1            0            0            0            0            0   \n",
       "2            0            0            0            0            0   \n",
       "3            0            0            0            0            0   \n",
       "4            0            0            0            0            0   \n",
       "\n",
       "   Soil_Type38  Soil_Type39  Soil_Type40  \n",
       "0            0            0            0  \n",
       "1            0            0            0  \n",
       "2            0            0            0  \n",
       "3            0            0            0  \n",
       "4            0            0            0  \n",
       "\n",
       "[5 rows x 54 columns]"
      ]
     },
     "execution_count": 3,
     "metadata": {},
     "output_type": "execute_result"
    }
   ],
   "source": [
    "xtrain = train.iloc[:, 1:-1]\n",
    "ytrain = train.iloc[:, -1]\n",
    "\n",
    "xtest = test.iloc[:, 1:]\n",
    "ytest = test.iloc[:, -1]\n",
    "\n",
    "# xtrain = pd.concat([xtrain, xtest])\n",
    "# ytrain = pd.concat([ytrain,ytest])\n",
    "\n",
    "xtrain.shape, xtest.shape\n",
    "xtrain.head(5)"
   ]
  },
  {
   "cell_type": "code",
   "execution_count": 20,
   "metadata": {
    "collapsed": false
   },
   "outputs": [
    {
     "name": "stderr",
     "output_type": "stream",
     "text": [
      "/home/mfc/.virtualenvs/dataMining/lib/python3.4/site-packages/IPython/kernel/__main__.py:4: SettingWithCopyWarning: \n",
      "A value is trying to be set on a copy of a slice from a DataFrame.\n",
      "Try using .loc[row_indexer,col_indexer] = value instead\n",
      "\n",
      "See the caveats in the documentation: http://pandas.pydata.org/pandas-docs/stable/indexing.html#indexing-view-versus-copy\n"
     ]
    }
   ],
   "source": [
    "#xtrain['Elevation'] = xtrain.Elevation.map(lambda x: (x - xtrain.Elevation.min())/ (xtrain.Elevation.max() -xtrain.Elevation.min()))\n",
    "\n",
    "for col in xtrain.columns[:10]:\n",
    "    xtrain[col] = xtrain[col].map(lambda x: (x - xtrain[col].min())/ (xtrain[col].max() -xtrain[col].min()))"
   ]
  },
  {
   "cell_type": "code",
   "execution_count": 24,
   "metadata": {
    "collapsed": false
   },
   "outputs": [],
   "source": [
    "xtrain.to_csv(\"Forest/norm_data.csv\")"
   ]
  },
  {
   "cell_type": "code",
   "execution_count": 42,
   "metadata": {
    "collapsed": false
   },
   "outputs": [],
   "source": [
    "trans_train = xtrain.copy()\n",
    "\n",
    "trans_train['Horizontal_Distance_To_Roadways'] = np.log10(xtrain.Horizontal_Distance_To_Roadways.values)\n",
    "trans_train['Horizontal_Distance_To_Hydrology'] = np.log10(xtrain.Horizontal_Distance_To_Hydrology.values)\n",
    "trans_train['Hillshade_9am'] = np.log10(xtrain.Hillshade_9am.values)\n",
    "\n",
    "\n",
    "trans_train['Horizontal_Distance_To_Roadways'] = (xtrain.Horizontal_Distance_To_Roadways.map(lambda x: 0 if np.isinf(x) else x))\n",
    "trans_train['Horizontal_Distance_To_Hydrology'] = (xtrain.Horizontal_Distance_To_Hydrology.map(lambda x: 0 if np.isinf(x) else x))\n",
    "trans_train['Hillshade_9am'] = (xtrain.Hillshade_9am.map(lambda x: 0 if np.isinf(x) else x))"
   ]
  },
  {
   "cell_type": "code",
   "execution_count": null,
   "metadata": {
    "collapsed": false
   },
   "outputs": [],
   "source": [
    "ucl_dat = pd.read_csv(\"Forest/covtype.data\")\n",
    "xtest = ucl_dat.iloc[:, :-1]\n",
    "ytest = ucl_dat.iloc[:, -1]"
   ]
  },
  {
   "cell_type": "markdown",
   "metadata": {},
   "source": [
    "\n",
    "# logistic regression"
   ]
  },
  {
   "cell_type": "code",
   "execution_count": 25,
   "metadata": {
    "collapsed": false
   },
   "outputs": [],
   "source": [
    "from LogisticRegression import  *"
   ]
  },
  {
   "cell_type": "code",
   "execution_count": 26,
   "metadata": {
    "collapsed": false
   },
   "outputs": [
    {
     "name": "stdout",
     "output_type": "stream",
     "text": [
      "... building the model\n",
      "... training the model\n",
      "epoch 1, minibatch 20/20, validation error 70.666667 %\n",
      "     epoch 1, minibatch 20/20, test error of best model 73.366667 %\n",
      "epoch 2, minibatch 20/20, validation error 70.133333 %\n",
      "     epoch 2, minibatch 20/20, test error of best model 69.744444 %\n",
      "epoch 3, minibatch 20/20, validation error 65.966667 %\n",
      "     epoch 3, minibatch 20/20, test error of best model 67.733333 %\n",
      "epoch 4, minibatch 20/20, validation error 64.133333 %\n",
      "     epoch 4, minibatch 20/20, test error of best model 67.466667 %\n",
      "epoch 5, minibatch 20/20, validation error 60.900000 %\n",
      "     epoch 5, minibatch 20/20, test error of best model 67.022222 %\n",
      "epoch 6, minibatch 20/20, validation error 59.200000 %\n",
      "     epoch 6, minibatch 20/20, test error of best model 66.366667 %\n",
      "epoch 7, minibatch 20/20, validation error 56.766667 %\n",
      "     epoch 7, minibatch 20/20, test error of best model 65.211111 %\n",
      "epoch 8, minibatch 20/20, validation error 54.833333 %\n",
      "     epoch 8, minibatch 20/20, test error of best model 63.455556 %\n",
      "epoch 9, minibatch 20/20, validation error 52.333333 %\n",
      "     epoch 9, minibatch 20/20, test error of best model 60.822222 %\n",
      "epoch 10, minibatch 20/20, validation error 50.433333 %\n",
      "     epoch 10, minibatch 20/20, test error of best model 59.600000 %\n",
      "epoch 11, minibatch 20/20, validation error 48.600000 %\n",
      "     epoch 11, minibatch 20/20, test error of best model 58.033333 %\n",
      "epoch 12, minibatch 20/20, validation error 46.700000 %\n",
      "     epoch 12, minibatch 20/20, test error of best model 56.455556 %\n",
      "epoch 13, minibatch 20/20, validation error 45.066667 %\n",
      "     epoch 13, minibatch 20/20, test error of best model 55.122222 %\n",
      "epoch 14, minibatch 20/20, validation error 44.700000 %\n",
      "     epoch 14, minibatch 20/20, test error of best model 54.277778 %\n",
      "epoch 15, minibatch 20/20, validation error 43.566667 %\n",
      "     epoch 15, minibatch 20/20, test error of best model 53.755556 %\n",
      "epoch 16, minibatch 20/20, validation error 43.066667 %\n",
      "     epoch 16, minibatch 20/20, test error of best model 53.433333 %\n",
      "epoch 17, minibatch 20/20, validation error 43.133333 %\n",
      "epoch 18, minibatch 20/20, validation error 42.733333 %\n",
      "     epoch 18, minibatch 20/20, test error of best model 52.666667 %\n",
      "epoch 19, minibatch 20/20, validation error 42.433333 %\n",
      "     epoch 19, minibatch 20/20, test error of best model 52.444444 %\n",
      "epoch 20, minibatch 20/20, validation error 41.900000 %\n",
      "     epoch 20, minibatch 20/20, test error of best model 52.144444 %\n",
      "epoch 21, minibatch 20/20, validation error 41.266667 %\n",
      "     epoch 21, minibatch 20/20, test error of best model 52.011111 %\n",
      "epoch 22, minibatch 20/20, validation error 41.166667 %\n",
      "     epoch 22, minibatch 20/20, test error of best model 51.777778 %\n",
      "epoch 23, minibatch 20/20, validation error 41.000000 %\n",
      "     epoch 23, minibatch 20/20, test error of best model 51.566667 %\n",
      "epoch 24, minibatch 20/20, validation error 41.033333 %\n",
      "epoch 25, minibatch 20/20, validation error 40.900000 %\n",
      "     epoch 25, minibatch 20/20, test error of best model 51.277778 %\n",
      "epoch 26, minibatch 20/20, validation error 40.800000 %\n",
      "     epoch 26, minibatch 20/20, test error of best model 51.133333 %\n",
      "epoch 27, minibatch 20/20, validation error 40.666667 %\n",
      "     epoch 27, minibatch 20/20, test error of best model 50.955556 %\n",
      "epoch 28, minibatch 20/20, validation error 40.566667 %\n",
      "     epoch 28, minibatch 20/20, test error of best model 50.877778 %\n",
      "epoch 29, minibatch 20/20, validation error 40.566667 %\n",
      "     epoch 29, minibatch 20/20, test error of best model 50.755556 %\n",
      "epoch 30, minibatch 20/20, validation error 40.633333 %\n",
      "epoch 31, minibatch 20/20, validation error 40.733333 %\n",
      "epoch 32, minibatch 20/20, validation error 40.533333 %\n",
      "     epoch 32, minibatch 20/20, test error of best model 50.377778 %\n",
      "epoch 33, minibatch 20/20, validation error 40.633333 %\n",
      "epoch 34, minibatch 20/20, validation error 40.833333 %\n",
      "epoch 35, minibatch 20/20, validation error 40.766667 %\n",
      "epoch 36, minibatch 20/20, validation error 40.533333 %\n",
      "epoch 37, minibatch 20/20, validation error 40.333333 %\n",
      "     epoch 37, minibatch 20/20, test error of best model 48.544444 %\n",
      "epoch 38, minibatch 20/20, validation error 39.900000 %\n",
      "     epoch 38, minibatch 20/20, test error of best model 48.044444 %\n",
      "epoch 39, minibatch 20/20, validation error 39.633333 %\n",
      "     epoch 39, minibatch 20/20, test error of best model 47.566667 %\n",
      "epoch 40, minibatch 20/20, validation error 39.266667 %\n",
      "     epoch 40, minibatch 20/20, test error of best model 47.155556 %\n",
      "epoch 41, minibatch 20/20, validation error 39.133333 %\n",
      "     epoch 41, minibatch 20/20, test error of best model 46.911111 %\n",
      "epoch 42, minibatch 20/20, validation error 38.933333 %\n",
      "     epoch 42, minibatch 20/20, test error of best model 46.644444 %\n",
      "epoch 43, minibatch 20/20, validation error 38.766667 %\n",
      "     epoch 43, minibatch 20/20, test error of best model 46.500000 %\n",
      "epoch 44, minibatch 20/20, validation error 38.600000 %\n",
      "     epoch 44, minibatch 20/20, test error of best model 46.411111 %\n",
      "epoch 45, minibatch 20/20, validation error 38.366667 %\n",
      "     epoch 45, minibatch 20/20, test error of best model 46.388889 %\n",
      "epoch 46, minibatch 20/20, validation error 38.333333 %\n",
      "     epoch 46, minibatch 20/20, test error of best model 46.311111 %\n",
      "epoch 47, minibatch 20/20, validation error 38.366667 %\n",
      "epoch 48, minibatch 20/20, validation error 38.300000 %\n",
      "     epoch 48, minibatch 20/20, test error of best model 46.166667 %\n",
      "epoch 49, minibatch 20/20, validation error 38.266667 %\n",
      "     epoch 49, minibatch 20/20, test error of best model 46.155556 %\n",
      "epoch 50, minibatch 20/20, validation error 38.266667 %\n",
      "epoch 51, minibatch 20/20, validation error 38.166667 %\n",
      "     epoch 51, minibatch 20/20, test error of best model 46.100000 %\n",
      "epoch 52, minibatch 20/20, validation error 38.166667 %\n",
      "epoch 53, minibatch 20/20, validation error 38.166667 %\n",
      "epoch 54, minibatch 20/20, validation error 38.200000 %\n",
      "epoch 55, minibatch 20/20, validation error 38.266667 %\n",
      "epoch 56, minibatch 20/20, validation error 38.300000 %\n",
      "epoch 57, minibatch 20/20, validation error 38.333333 %\n",
      "epoch 58, minibatch 20/20, validation error 38.366667 %\n",
      "epoch 59, minibatch 20/20, validation error 38.433333 %\n",
      "epoch 60, minibatch 20/20, validation error 38.466667 %\n",
      "epoch 61, minibatch 20/20, validation error 38.433333 %\n",
      "epoch 62, minibatch 20/20, validation error 38.433333 %\n",
      "epoch 63, minibatch 20/20, validation error 38.366667 %\n",
      "epoch 64, minibatch 20/20, validation error 38.366667 %\n",
      "epoch 65, minibatch 20/20, validation error 38.466667 %\n",
      "epoch 66, minibatch 20/20, validation error 38.466667 %\n",
      "epoch 67, minibatch 20/20, validation error 38.433333 %\n",
      "epoch 68, minibatch 20/20, validation error 38.400000 %\n",
      "epoch 69, minibatch 20/20, validation error 38.366667 %\n",
      "epoch 70, minibatch 20/20, validation error 38.366667 %\n",
      "epoch 71, minibatch 20/20, validation error 38.366667 %\n",
      "epoch 72, minibatch 20/20, validation error 38.300000 %\n",
      "epoch 73, minibatch 20/20, validation error 38.300000 %\n",
      "epoch 74, minibatch 20/20, validation error 38.233333 %\n",
      "epoch 75, minibatch 20/20, validation error 38.200000 %\n",
      "epoch 76, minibatch 20/20, validation error 38.166667 %\n",
      "epoch 77, minibatch 20/20, validation error 38.166667 %\n",
      "epoch 78, minibatch 20/20, validation error 38.166667 %\n",
      "epoch 79, minibatch 20/20, validation error 38.133333 %\n",
      "     epoch 79, minibatch 20/20, test error of best model 45.577778 %\n",
      "epoch 80, minibatch 20/20, validation error 38.100000 %\n",
      "     epoch 80, minibatch 20/20, test error of best model 45.577778 %\n",
      "epoch 81, minibatch 20/20, validation error 38.133333 %\n",
      "epoch 82, minibatch 20/20, validation error 38.066667 %\n",
      "     epoch 82, minibatch 20/20, test error of best model 45.577778 %\n",
      "epoch 83, minibatch 20/20, validation error 38.133333 %\n",
      "epoch 84, minibatch 20/20, validation error 38.166667 %\n",
      "epoch 85, minibatch 20/20, validation error 38.233333 %\n",
      "epoch 86, minibatch 20/20, validation error 38.233333 %\n",
      "epoch 87, minibatch 20/20, validation error 38.233333 %\n",
      "epoch 88, minibatch 20/20, validation error 38.233333 %\n",
      "epoch 89, minibatch 20/20, validation error 38.166667 %\n",
      "epoch 90, minibatch 20/20, validation error 38.166667 %\n",
      "epoch 91, minibatch 20/20, validation error 38.200000 %\n",
      "epoch 92, minibatch 20/20, validation error 38.200000 %\n",
      "epoch 93, minibatch 20/20, validation error 38.200000 %\n",
      "epoch 94, minibatch 20/20, validation error 38.200000 %\n",
      "epoch 95, minibatch 20/20, validation error 38.200000 %\n",
      "epoch 96, minibatch 20/20, validation error 38.266667 %\n",
      "epoch 97, minibatch 20/20, validation error 38.266667 %\n",
      "epoch 98, minibatch 20/20, validation error 38.300000 %\n",
      "epoch 99, minibatch 20/20, validation error 38.300000 %\n",
      "epoch 100, minibatch 20/20, validation error 38.266667 %\n",
      "epoch 101, minibatch 20/20, validation error 38.300000 %\n",
      "epoch 102, minibatch 20/20, validation error 38.333333 %\n",
      "epoch 103, minibatch 20/20, validation error 38.266667 %\n",
      "epoch 104, minibatch 20/20, validation error 38.200000 %\n",
      "epoch 105, minibatch 20/20, validation error 38.200000 %\n",
      "epoch 106, minibatch 20/20, validation error 38.200000 %\n",
      "epoch 107, minibatch 20/20, validation error 38.200000 %\n",
      "epoch 108, minibatch 20/20, validation error 38.200000 %\n",
      "epoch 109, minibatch 20/20, validation error 38.200000 %\n",
      "epoch 110, minibatch 20/20, validation error 38.200000 %\n",
      "epoch 111, minibatch 20/20, validation error 38.166667 %\n",
      "epoch 112, minibatch 20/20, validation error 38.166667 %\n",
      "epoch 113, minibatch 20/20, validation error 38.166667 %\n",
      "epoch 114, minibatch 20/20, validation error 38.166667 %\n",
      "epoch 115, minibatch 20/20, validation error 38.133333 %\n",
      "epoch 116, minibatch 20/20, validation error 38.133333 %\n",
      "epoch 117, minibatch 20/20, validation error 38.100000 %\n",
      "epoch 118, minibatch 20/20, validation error 38.100000 %\n",
      "epoch 119, minibatch 20/20, validation error 38.033333 %\n",
      "     epoch 119, minibatch 20/20, test error of best model 45.088889 %\n",
      "epoch 120, minibatch 20/20, validation error 38.033333 %\n",
      "epoch 121, minibatch 20/20, validation error 38.033333 %\n",
      "epoch 122, minibatch 20/20, validation error 38.000000 %\n",
      "     epoch 122, minibatch 20/20, test error of best model 45.077778 %\n",
      "epoch 123, minibatch 20/20, validation error 37.900000 %\n",
      "     epoch 123, minibatch 20/20, test error of best model 45.066667 %\n",
      "epoch 124, minibatch 20/20, validation error 37.900000 %\n",
      "epoch 125, minibatch 20/20, validation error 37.900000 %\n",
      "epoch 126, minibatch 20/20, validation error 37.900000 %\n",
      "epoch 127, minibatch 20/20, validation error 37.900000 %\n",
      "epoch 128, minibatch 20/20, validation error 37.900000 %\n",
      "epoch 129, minibatch 20/20, validation error 37.900000 %\n",
      "epoch 130, minibatch 20/20, validation error 37.900000 %\n",
      "epoch 131, minibatch 20/20, validation error 37.900000 %\n",
      "epoch 132, minibatch 20/20, validation error 37.900000 %\n",
      "epoch 133, minibatch 20/20, validation error 37.900000 %\n",
      "epoch 134, minibatch 20/20, validation error 37.900000 %\n",
      "epoch 135, minibatch 20/20, validation error 37.900000 %\n",
      "epoch 136, minibatch 20/20, validation error 37.966667 %\n",
      "epoch 137, minibatch 20/20, validation error 37.966667 %\n",
      "epoch 138, minibatch 20/20, validation error 37.966667 %\n",
      "epoch 139, minibatch 20/20, validation error 37.900000 %\n",
      "epoch 140, minibatch 20/20, validation error 37.900000 %\n",
      "epoch 141, minibatch 20/20, validation error 37.900000 %\n",
      "epoch 142, minibatch 20/20, validation error 37.900000 %\n",
      "epoch 143, minibatch 20/20, validation error 37.866667 %\n",
      "     epoch 143, minibatch 20/20, test error of best model 44.855556 %\n",
      "epoch 144, minibatch 20/20, validation error 37.866667 %\n",
      "epoch 145, minibatch 20/20, validation error 37.866667 %\n",
      "epoch 146, minibatch 20/20, validation error 37.866667 %\n",
      "epoch 147, minibatch 20/20, validation error 37.833333 %\n",
      "     epoch 147, minibatch 20/20, test error of best model 44.866667 %\n",
      "epoch 148, minibatch 20/20, validation error 37.833333 %\n",
      "epoch 149, minibatch 20/20, validation error 37.866667 %\n",
      "epoch 150, minibatch 20/20, validation error 37.833333 %\n",
      "epoch 151, minibatch 20/20, validation error 37.866667 %\n",
      "epoch 152, minibatch 20/20, validation error 37.866667 %\n",
      "epoch 153, minibatch 20/20, validation error 37.833333 %\n",
      "epoch 154, minibatch 20/20, validation error 37.833333 %\n",
      "epoch 155, minibatch 20/20, validation error 37.833333 %\n",
      "epoch 156, minibatch 20/20, validation error 37.800000 %\n",
      "     epoch 156, minibatch 20/20, test error of best model 44.711111 %\n",
      "epoch 157, minibatch 20/20, validation error 37.766667 %\n",
      "     epoch 157, minibatch 20/20, test error of best model 44.677778 %\n",
      "epoch 158, minibatch 20/20, validation error 37.766667 %\n",
      "epoch 159, minibatch 20/20, validation error 37.766667 %\n",
      "epoch 160, minibatch 20/20, validation error 37.733333 %\n",
      "     epoch 160, minibatch 20/20, test error of best model 44.677778 %\n",
      "epoch 161, minibatch 20/20, validation error 37.733333 %\n",
      "epoch 162, minibatch 20/20, validation error 37.733333 %\n",
      "epoch 163, minibatch 20/20, validation error 37.700000 %\n",
      "     epoch 163, minibatch 20/20, test error of best model 44.644444 %\n",
      "epoch 164, minibatch 20/20, validation error 37.666667 %\n",
      "     epoch 164, minibatch 20/20, test error of best model 44.633333 %\n",
      "epoch 165, minibatch 20/20, validation error 37.666667 %\n",
      "epoch 166, minibatch 20/20, validation error 37.666667 %\n",
      "epoch 167, minibatch 20/20, validation error 37.666667 %\n",
      "epoch 168, minibatch 20/20, validation error 37.666667 %\n",
      "epoch 169, minibatch 20/20, validation error 37.666667 %\n",
      "epoch 170, minibatch 20/20, validation error 37.633333 %\n",
      "     epoch 170, minibatch 20/20, test error of best model 44.622222 %\n",
      "epoch 171, minibatch 20/20, validation error 37.633333 %\n",
      "epoch 172, minibatch 20/20, validation error 37.600000 %\n",
      "     epoch 172, minibatch 20/20, test error of best model 44.633333 %\n",
      "epoch 173, minibatch 20/20, validation error 37.600000 %\n",
      "epoch 174, minibatch 20/20, validation error 37.566667 %\n",
      "     epoch 174, minibatch 20/20, test error of best model 44.611111 %\n",
      "epoch 175, minibatch 20/20, validation error 37.533333 %\n",
      "     epoch 175, minibatch 20/20, test error of best model 44.611111 %\n",
      "epoch 176, minibatch 20/20, validation error 37.600000 %\n",
      "epoch 177, minibatch 20/20, validation error 37.566667 %\n",
      "epoch 178, minibatch 20/20, validation error 37.600000 %\n",
      "epoch 179, minibatch 20/20, validation error 37.666667 %\n",
      "epoch 180, minibatch 20/20, validation error 37.700000 %\n",
      "epoch 181, minibatch 20/20, validation error 37.700000 %\n",
      "epoch 182, minibatch 20/20, validation error 37.733333 %\n",
      "epoch 183, minibatch 20/20, validation error 37.733333 %\n",
      "epoch 184, minibatch 20/20, validation error 37.733333 %\n",
      "epoch 185, minibatch 20/20, validation error 37.733333 %\n",
      "epoch 186, minibatch 20/20, validation error 37.733333 %\n",
      "epoch 187, minibatch 20/20, validation error 37.633333 %\n",
      "epoch 188, minibatch 20/20, validation error 37.633333 %\n",
      "epoch 189, minibatch 20/20, validation error 37.633333 %\n",
      "epoch 190, minibatch 20/20, validation error 37.600000 %\n",
      "epoch 191, minibatch 20/20, validation error 37.566667 %\n",
      "epoch 192, minibatch 20/20, validation error 37.566667 %\n",
      "epoch 193, minibatch 20/20, validation error 37.533333 %\n",
      "epoch 194, minibatch 20/20, validation error 37.533333 %\n",
      "epoch 195, minibatch 20/20, validation error 37.533333 %\n",
      "epoch 196, minibatch 20/20, validation error 37.566667 %\n",
      "epoch 197, minibatch 20/20, validation error 37.566667 %\n",
      "epoch 198, minibatch 20/20, validation error 37.566667 %\n",
      "epoch 199, minibatch 20/20, validation error 37.600000 %\n",
      "epoch 200, minibatch 20/20, validation error 37.600000 %\n",
      "epoch 201, minibatch 20/20, validation error 37.566667 %\n",
      "epoch 202, minibatch 20/20, validation error 37.500000 %\n",
      "     epoch 202, minibatch 20/20, test error of best model 44.566667 %\n",
      "epoch 203, minibatch 20/20, validation error 37.466667 %\n",
      "     epoch 203, minibatch 20/20, test error of best model 44.544444 %\n",
      "epoch 204, minibatch 20/20, validation error 37.466667 %\n",
      "epoch 205, minibatch 20/20, validation error 37.400000 %\n",
      "     epoch 205, minibatch 20/20, test error of best model 44.566667 %\n",
      "epoch 206, minibatch 20/20, validation error 37.400000 %\n",
      "epoch 207, minibatch 20/20, validation error 37.400000 %\n",
      "epoch 208, minibatch 20/20, validation error 37.400000 %\n",
      "epoch 209, minibatch 20/20, validation error 37.366667 %\n",
      "     epoch 209, minibatch 20/20, test error of best model 44.555556 %\n",
      "epoch 210, minibatch 20/20, validation error 37.433333 %\n",
      "epoch 211, minibatch 20/20, validation error 37.400000 %\n",
      "epoch 212, minibatch 20/20, validation error 37.333333 %\n",
      "     epoch 212, minibatch 20/20, test error of best model 44.555556 %\n",
      "epoch 213, minibatch 20/20, validation error 37.266667 %\n",
      "     epoch 213, minibatch 20/20, test error of best model 44.566667 %\n",
      "epoch 214, minibatch 20/20, validation error 37.300000 %\n",
      "epoch 215, minibatch 20/20, validation error 37.300000 %\n",
      "epoch 216, minibatch 20/20, validation error 37.300000 %\n",
      "epoch 217, minibatch 20/20, validation error 37.300000 %\n",
      "epoch 218, minibatch 20/20, validation error 37.300000 %\n",
      "epoch 219, minibatch 20/20, validation error 37.300000 %\n",
      "epoch 220, minibatch 20/20, validation error 37.266667 %\n",
      "epoch 221, minibatch 20/20, validation error 37.266667 %\n",
      "epoch 222, minibatch 20/20, validation error 37.266667 %\n",
      "epoch 223, minibatch 20/20, validation error 37.266667 %\n",
      "epoch 224, minibatch 20/20, validation error 37.266667 %\n",
      "epoch 225, minibatch 20/20, validation error 37.233333 %\n",
      "     epoch 225, minibatch 20/20, test error of best model 44.522222 %\n",
      "epoch 226, minibatch 20/20, validation error 37.233333 %\n",
      "epoch 227, minibatch 20/20, validation error 37.233333 %\n",
      "epoch 228, minibatch 20/20, validation error 37.233333 %\n",
      "epoch 229, minibatch 20/20, validation error 37.233333 %\n",
      "epoch 230, minibatch 20/20, validation error 37.233333 %\n",
      "epoch 231, minibatch 20/20, validation error 37.266667 %\n",
      "epoch 232, minibatch 20/20, validation error 37.200000 %\n",
      "     epoch 232, minibatch 20/20, test error of best model 44.455556 %\n",
      "epoch 233, minibatch 20/20, validation error 37.200000 %\n",
      "epoch 234, minibatch 20/20, validation error 37.166667 %\n",
      "     epoch 234, minibatch 20/20, test error of best model 44.455556 %\n",
      "epoch 235, minibatch 20/20, validation error 37.166667 %\n",
      "epoch 236, minibatch 20/20, validation error 37.166667 %\n",
      "epoch 237, minibatch 20/20, validation error 37.166667 %\n",
      "epoch 238, minibatch 20/20, validation error 37.133333 %\n",
      "     epoch 238, minibatch 20/20, test error of best model 44.422222 %\n",
      "epoch 239, minibatch 20/20, validation error 37.133333 %\n",
      "epoch 240, minibatch 20/20, validation error 37.133333 %\n",
      "epoch 241, minibatch 20/20, validation error 37.133333 %\n",
      "epoch 242, minibatch 20/20, validation error 37.133333 %\n",
      "epoch 243, minibatch 20/20, validation error 37.133333 %\n",
      "epoch 244, minibatch 20/20, validation error 37.133333 %\n",
      "epoch 245, minibatch 20/20, validation error 37.133333 %\n",
      "epoch 246, minibatch 20/20, validation error 37.133333 %\n",
      "epoch 247, minibatch 20/20, validation error 37.033333 %\n",
      "     epoch 247, minibatch 20/20, test error of best model 44.377778 %\n",
      "epoch 248, minibatch 20/20, validation error 37.033333 %\n",
      "epoch 249, minibatch 20/20, validation error 37.033333 %\n",
      "epoch 250, minibatch 20/20, validation error 37.066667 %\n",
      "Optimization complete with best validation score of 37.033333 %,with test performance 44.377778 %\n",
      "The code run for 251 epochs, with 33.184633 epochs/sec\n"
     ]
    },
    {
     "name": "stderr",
     "output_type": "stream",
     "text": [
      "The code for file  ran for 7.6s\n"
     ]
    }
   ],
   "source": [
    "sgd(xtrain.values, ytrain.values, 54, 8,  learning_rate=0.1, n_epochs=1000, batch_size=150)"
   ]
  },
  {
   "cell_type": "code",
   "execution_count": 28,
   "metadata": {
    "collapsed": false
   },
   "outputs": [
    {
     "ename": "TypeError",
     "evalue": "cannot do slice stop value indexing on <class 'pandas.core.index.Int64Index'> with these indexers [12096.0] of <class 'float'>",
     "output_type": "error",
     "traceback": [
      "\u001b[1;31m---------------------------------------------------------------------------\u001b[0m",
      "\u001b[1;31mTypeError\u001b[0m                                 Traceback (most recent call last)",
      "\u001b[1;32m<ipython-input-28-ab98ce30b44a>\u001b[0m in \u001b[0;36m<module>\u001b[1;34m()\u001b[0m\n\u001b[1;32m----> 1\u001b[1;33m \u001b[0my_pred\u001b[0m \u001b[1;33m=\u001b[0m \u001b[0mpredict\u001b[0m\u001b[1;33m(\u001b[0m\u001b[0mxtrain\u001b[0m\u001b[1;33m,\u001b[0m \u001b[0mytrain\u001b[0m\u001b[1;33m)\u001b[0m\u001b[1;33m\u001b[0m\u001b[0m\n\u001b[0m",
      "\u001b[1;32m/home/mfc/Dropbox/spring2016/dataMining/projects/project1/LogisticRegression.py\u001b[0m in \u001b[0;36mpredict\u001b[1;34m(X, Y)\u001b[0m\n\u001b[0;32m    254\u001b[0m         outputs=classifier.y_pred)\n\u001b[0;32m    255\u001b[0m \u001b[1;33m\u001b[0m\u001b[0m\n\u001b[1;32m--> 256\u001b[1;33m     \u001b[0mdatasets\u001b[0m \u001b[1;33m=\u001b[0m \u001b[0mload_data\u001b[0m\u001b[1;33m(\u001b[0m\u001b[0mX\u001b[0m\u001b[1;33m,\u001b[0m \u001b[0mY\u001b[0m\u001b[1;33m)\u001b[0m\u001b[1;33m\u001b[0m\u001b[0m\n\u001b[0m\u001b[0;32m    257\u001b[0m     \u001b[0mtest_set_x\u001b[0m\u001b[1;33m,\u001b[0m \u001b[0mtest_set_y\u001b[0m \u001b[1;33m=\u001b[0m \u001b[0mdatasets\u001b[0m\u001b[1;33m[\u001b[0m\u001b[1;36m2\u001b[0m\u001b[1;33m]\u001b[0m\u001b[1;33m\u001b[0m\u001b[0m\n\u001b[0;32m    258\u001b[0m     \u001b[0mtest_set_x\u001b[0m \u001b[1;33m=\u001b[0m \u001b[0mtest_set_x\u001b[0m\u001b[1;33m.\u001b[0m\u001b[0mget_value\u001b[0m\u001b[1;33m(\u001b[0m\u001b[1;33m)\u001b[0m\u001b[1;33m\u001b[0m\u001b[0m\n",
      "\u001b[1;32m/home/mfc/Dropbox/spring2016/dataMining/projects/project1/LogisticRegression.py\u001b[0m in \u001b[0;36mload_data\u001b[1;34m(X, Y)\u001b[0m\n\u001b[0;32m     80\u001b[0m \u001b[1;33m\u001b[0m\u001b[0m\n\u001b[0;32m     81\u001b[0m     \u001b[0mtest_set_x\u001b[0m\u001b[1;33m,\u001b[0m \u001b[0mtest_set_y\u001b[0m \u001b[1;33m=\u001b[0m \u001b[0mshared_dataset\u001b[0m\u001b[1;33m(\u001b[0m\u001b[0mX\u001b[0m\u001b[1;33m[\u001b[0m\u001b[1;33m:\u001b[0m\u001b[0mtrain_len\u001b[0m\u001b[1;33m]\u001b[0m\u001b[1;33m,\u001b[0m \u001b[0mY\u001b[0m\u001b[1;33m[\u001b[0m\u001b[1;33m:\u001b[0m\u001b[0mtrain_len\u001b[0m\u001b[1;33m]\u001b[0m\u001b[1;33m)\u001b[0m\u001b[1;33m\u001b[0m\u001b[0m\n\u001b[1;32m---> 82\u001b[1;33m     valid_set_x, valid_set_y = shared_dataset(X[train_len: train_len + test_len],\n\u001b[0m\u001b[0;32m     83\u001b[0m                                               Y[train_len: train_len + test_len])\n\u001b[0;32m     84\u001b[0m     train_set_x, train_set_y = shared_dataset(X[train_len + test_len: train_len + 2*test_len],\n",
      "\u001b[1;32m/home/mfc/.virtualenvs/dataMining/lib/python3.4/site-packages/pandas/core/frame.py\u001b[0m in \u001b[0;36m__getitem__\u001b[1;34m(self, key)\u001b[0m\n\u001b[0;32m   1955\u001b[0m \u001b[1;33m\u001b[0m\u001b[0m\n\u001b[0;32m   1956\u001b[0m         \u001b[1;31m# see if we can slice the rows\u001b[0m\u001b[1;33m\u001b[0m\u001b[1;33m\u001b[0m\u001b[0m\n\u001b[1;32m-> 1957\u001b[1;33m         \u001b[0mindexer\u001b[0m \u001b[1;33m=\u001b[0m \u001b[0mconvert_to_index_sliceable\u001b[0m\u001b[1;33m(\u001b[0m\u001b[0mself\u001b[0m\u001b[1;33m,\u001b[0m \u001b[0mkey\u001b[0m\u001b[1;33m)\u001b[0m\u001b[1;33m\u001b[0m\u001b[0m\n\u001b[0m\u001b[0;32m   1958\u001b[0m         \u001b[1;32mif\u001b[0m \u001b[0mindexer\u001b[0m \u001b[1;32mis\u001b[0m \u001b[1;32mnot\u001b[0m \u001b[1;32mNone\u001b[0m\u001b[1;33m:\u001b[0m\u001b[1;33m\u001b[0m\u001b[0m\n\u001b[0;32m   1959\u001b[0m             \u001b[1;32mreturn\u001b[0m \u001b[0mself\u001b[0m\u001b[1;33m.\u001b[0m\u001b[0m_getitem_slice\u001b[0m\u001b[1;33m(\u001b[0m\u001b[0mindexer\u001b[0m\u001b[1;33m)\u001b[0m\u001b[1;33m\u001b[0m\u001b[0m\n",
      "\u001b[1;32m/home/mfc/.virtualenvs/dataMining/lib/python3.4/site-packages/pandas/core/indexing.py\u001b[0m in \u001b[0;36mconvert_to_index_sliceable\u001b[1;34m(obj, key)\u001b[0m\n\u001b[0;32m   1654\u001b[0m     \u001b[0midx\u001b[0m \u001b[1;33m=\u001b[0m \u001b[0mobj\u001b[0m\u001b[1;33m.\u001b[0m\u001b[0mindex\u001b[0m\u001b[1;33m\u001b[0m\u001b[0m\n\u001b[0;32m   1655\u001b[0m     \u001b[1;32mif\u001b[0m \u001b[0misinstance\u001b[0m\u001b[1;33m(\u001b[0m\u001b[0mkey\u001b[0m\u001b[1;33m,\u001b[0m \u001b[0mslice\u001b[0m\u001b[1;33m)\u001b[0m\u001b[1;33m:\u001b[0m\u001b[1;33m\u001b[0m\u001b[0m\n\u001b[1;32m-> 1656\u001b[1;33m         \u001b[1;32mreturn\u001b[0m \u001b[0midx\u001b[0m\u001b[1;33m.\u001b[0m\u001b[0m_convert_slice_indexer\u001b[0m\u001b[1;33m(\u001b[0m\u001b[0mkey\u001b[0m\u001b[1;33m,\u001b[0m \u001b[0mkind\u001b[0m\u001b[1;33m=\u001b[0m\u001b[1;34m'getitem'\u001b[0m\u001b[1;33m)\u001b[0m\u001b[1;33m\u001b[0m\u001b[0m\n\u001b[0m\u001b[0;32m   1657\u001b[0m \u001b[1;33m\u001b[0m\u001b[0m\n\u001b[0;32m   1658\u001b[0m     \u001b[1;32melif\u001b[0m \u001b[0misinstance\u001b[0m\u001b[1;33m(\u001b[0m\u001b[0mkey\u001b[0m\u001b[1;33m,\u001b[0m \u001b[0mcompat\u001b[0m\u001b[1;33m.\u001b[0m\u001b[0mstring_types\u001b[0m\u001b[1;33m)\u001b[0m\u001b[1;33m:\u001b[0m\u001b[1;33m\u001b[0m\u001b[0m\n",
      "\u001b[1;32m/home/mfc/.virtualenvs/dataMining/lib/python3.4/site-packages/pandas/core/index.py\u001b[0m in \u001b[0;36m_convert_slice_indexer\u001b[1;34m(self, key, kind)\u001b[0m\n\u001b[0;32m    934\u001b[0m             \u001b[0mv\u001b[0m \u001b[1;33m=\u001b[0m \u001b[0mgetattr\u001b[0m\u001b[1;33m(\u001b[0m\u001b[0mkey\u001b[0m\u001b[1;33m,\u001b[0m\u001b[0mc\u001b[0m\u001b[1;33m)\u001b[0m\u001b[1;33m\u001b[0m\u001b[0m\n\u001b[0;32m    935\u001b[0m             \u001b[1;32mif\u001b[0m \u001b[1;32mnot\u001b[0m \u001b[0mvalidate\u001b[0m\u001b[1;33m(\u001b[0m\u001b[0mv\u001b[0m\u001b[1;33m)\u001b[0m\u001b[1;33m:\u001b[0m\u001b[1;33m\u001b[0m\u001b[0m\n\u001b[1;32m--> 936\u001b[1;33m                 \u001b[0mself\u001b[0m\u001b[1;33m.\u001b[0m\u001b[0m_invalid_indexer\u001b[0m\u001b[1;33m(\u001b[0m\u001b[1;34m'slice {0} value'\u001b[0m\u001b[1;33m.\u001b[0m\u001b[0mformat\u001b[0m\u001b[1;33m(\u001b[0m\u001b[0mc\u001b[0m\u001b[1;33m)\u001b[0m\u001b[1;33m,\u001b[0m \u001b[0mv\u001b[0m\u001b[1;33m)\u001b[0m\u001b[1;33m\u001b[0m\u001b[0m\n\u001b[0m\u001b[0;32m    937\u001b[0m \u001b[1;33m\u001b[0m\u001b[0m\n\u001b[0;32m    938\u001b[0m         \u001b[1;31m# figure out if this is a positional indexer\u001b[0m\u001b[1;33m\u001b[0m\u001b[1;33m\u001b[0m\u001b[0m\n",
      "\u001b[1;32m/home/mfc/.virtualenvs/dataMining/lib/python3.4/site-packages/pandas/core/index.py\u001b[0m in \u001b[0;36m_invalid_indexer\u001b[1;34m(self, form, key)\u001b[0m\n\u001b[0;32m   1015\u001b[0m                                                            \u001b[0mklass\u001b[0m\u001b[1;33m=\u001b[0m\u001b[0mtype\u001b[0m\u001b[1;33m(\u001b[0m\u001b[0mself\u001b[0m\u001b[1;33m)\u001b[0m\u001b[1;33m,\u001b[0m\u001b[1;33m\u001b[0m\u001b[0m\n\u001b[0;32m   1016\u001b[0m                                                            \u001b[0mkey\u001b[0m\u001b[1;33m=\u001b[0m\u001b[0mkey\u001b[0m\u001b[1;33m,\u001b[0m\u001b[1;33m\u001b[0m\u001b[0m\n\u001b[1;32m-> 1017\u001b[1;33m                                                            kind=type(key)))\n\u001b[0m\u001b[0;32m   1018\u001b[0m \u001b[1;33m\u001b[0m\u001b[0m\n\u001b[0;32m   1019\u001b[0m     \u001b[1;32mdef\u001b[0m \u001b[0mget_duplicates\u001b[0m\u001b[1;33m(\u001b[0m\u001b[0mself\u001b[0m\u001b[1;33m)\u001b[0m\u001b[1;33m:\u001b[0m\u001b[1;33m\u001b[0m\u001b[0m\n",
      "\u001b[1;31mTypeError\u001b[0m: cannot do slice stop value indexing on <class 'pandas.core.index.Int64Index'> with these indexers [12096.0] of <class 'float'>"
     ]
    }
   ],
   "source": [
    "y_pred = predict(xtrain, ytrain)"
   ]
  },
  {
   "cell_type": "markdown",
   "metadata": {},
   "source": [
    "# PCA"
   ]
  },
  {
   "cell_type": "code",
   "execution_count": 93,
   "metadata": {
    "collapsed": false
   },
   "outputs": [
    {
     "data": {
      "text/plain": [
       "0.98789763092952076"
      ]
     },
     "execution_count": 93,
     "metadata": {},
     "output_type": "execute_result"
    }
   ],
   "source": [
    "from PCA import PCA\n",
    "\n",
    "pca = PCA(xtrain.values)\n",
    "pca_trans = PCA(trans_train.values)\n",
    "\n",
    "sum(pca.summary(35))"
   ]
  },
  {
   "cell_type": "code",
   "execution_count": null,
   "metadata": {
    "collapsed": false
   },
   "outputs": [],
   "source": [
    "X_new = pca.transform(3)"
   ]
  },
  {
   "cell_type": "code",
   "execution_count": null,
   "metadata": {
    "collapsed": false
   },
   "outputs": [],
   "source": [
    "indx1=np.array((ytrain==1),dtype=bool)\n",
    "plt.scatter(X_new[indx1,0], X_new[indx1,1], c='r', alpha = .1)"
   ]
  },
  {
   "cell_type": "code",
   "execution_count": null,
   "metadata": {
    "collapsed": false
   },
   "outputs": [],
   "source": [
    "indx3=np.array((ytrain==3),dtype=bool)\n",
    "plt.scatter(X_new[indx3,0], X_new[indx3,1], c='g', alpha = .1)"
   ]
  },
  {
   "cell_type": "code",
   "execution_count": null,
   "metadata": {
    "collapsed": false
   },
   "outputs": [],
   "source": [
    "indx4=np.array((ytrain==4),dtype=bool)\n",
    "plt.scatter(X_new[indx4,0], X_new[indx4,1], c='y', alpha = .1)"
   ]
  },
  {
   "cell_type": "code",
   "execution_count": null,
   "metadata": {
    "collapsed": false
   },
   "outputs": [],
   "source": [
    "indx5=np.array((ytrain==5),dtype=bool)\n",
    "plt.scatter(X_new[indx5,0], X_new[indx5,1], c='c', alpha = .1)"
   ]
  },
  {
   "cell_type": "code",
   "execution_count": null,
   "metadata": {
    "collapsed": false
   },
   "outputs": [],
   "source": [
    "indx6=np.array((ytrain==6),dtype=bool)\n",
    "plt.scatter(X_new[indx6,0], X_new[indx6,1], c='black', alpha = .1)"
   ]
  },
  {
   "cell_type": "code",
   "execution_count": null,
   "metadata": {
    "collapsed": false
   },
   "outputs": [],
   "source": [
    "indx7=np.array((ytrain==7),dtype=bool)\n",
    "plt.scatter(X_new[indx7,0], X_new[indx7,1], c='gray', alpha = .1)"
   ]
  },
  {
   "cell_type": "code",
   "execution_count": 75,
   "metadata": {
    "collapsed": true
   },
   "outputs": [],
   "source": [
    "X3 = pca.transform(3)\n",
    "X2 = pca.transform(2)"
   ]
  },
  {
   "cell_type": "code",
   "execution_count": null,
   "metadata": {
    "collapsed": false
   },
   "outputs": [],
   "source": [
    "import seaborn\n",
    "fig = plt.figure()\n",
    "\n",
    "fig.set_size_inches(15, 12)\n",
    "ax = fig.add_subplot(111, projection='3d')\n",
    "\n",
    "\n",
    "indx1=np.array((ytrain==1),dtype=bool)\n",
    "ax.scatter(X3[indx1,0],X3[indx1,1], X3[indx1,2], color='r',s = 70, alpha = 0.1, label=\"1\")\n",
    "\n",
    "indx2=np.array((ytrain==2),dtype=bool)\n",
    "ax.scatter(X3[indx2,0],X3[indx2,1], X3[indx2,2], color='b', alpha = 0.1, label=\"2\")\n",
    "\n",
    "indx3=np.array((ytrain==3),dtype=bool)\n",
    "ax.scatter(X3[indx3,0],X3[indx3,1], X3[indx3,2], color='m', alpha = 0.1, label=\"3\")\n",
    "\n",
    "indx4=np.array((ytrain==4),dtype=bool)\n",
    "ax.scatter(X3[indx4,0],X3[indx4,1], X3[indx4,2], color='y', alpha = 0.1, label=\"4\")\n",
    "\n",
    "indx5=np.array((ytrain==5),dtype=bool)\n",
    "ax.scatter(X3[indx5,0],X3[indx5,1], X3[indx5,2], color='pink', alpha = 0.1, label=\"5\")\n",
    "\n",
    "\n",
    "indx6=np.array((ytrain==6),dtype=bool)\n",
    "ax.scatter(X3[indx6,0],X3[indx6,1], X3[indx6,2], color='gray', alpha = 0.1, label=\"6\")\n",
    "\n",
    "indx7=np.array((ytrain==7),dtype=bool)\n",
    "ax.scatter(X3[indx7,0],X3[indx7,1], X3[indx7,2], color='orange', alpha = 0.1, label=\"7\")\n",
    "\n",
    "ax.view_init(20,15)\n",
    "ax.legend()"
   ]
  },
  {
   "cell_type": "code",
   "execution_count": 77,
   "metadata": {
    "collapsed": false
   },
   "outputs": [
    {
     "data": {
      "image/png": "[encoded data removed]",
      "text/plain": [
       "<matplotlib.figure.Figure at 0x7f79abc87908>"
      ]
     },
     "metadata": {},
     "output_type": "display_data"
    }
   ],
   "source": [
    "#import seaborn\n",
    "import seaborn\n",
    "fig = plt.figure()\n",
    "\n",
    "fig.set_size_inches(6, 4)\n",
    "ax = fig.add_subplot(111, projection='3d')\n",
    "\n",
    "indx1=np.array((ytrain==1),dtype=bool)\n",
    "\n",
    "ax.scatter(X3[:,0],X3[:,1],X3[:,2], c=ytrain ,s = 10, alpha = 0.3,cmap=plt.cm.gnuplot)\n",
    "ax.view_init(20,60)\n",
    "\n",
    "\n",
    "#plt.show()\n",
    "plt.savefig(\"../project1/notebook/X3dim.png\")"
   ]
  },
  {
   "cell_type": "code",
   "execution_count": null,
   "metadata": {
    "collapsed": false
   },
   "outputs": [],
   "source": [
    "X3"
   ]
  },
  {
   "cell_type": "code",
   "execution_count": 78,
   "metadata": {
    "collapsed": false
   },
   "outputs": [
    {
     "data": {
      "image/png": "[encoded data removed]",
      "text/plain": [
       "<matplotlib.figure.Figure at 0x7f79d1992c50>"
      ]
     },
     "metadata": {},
     "output_type": "display_data"
    }
   ],
   "source": [
    "plt.figure(figsize=(5,4))\n",
    "plt.scatter(X2[:,0],X2[:,1], c=ytrain ,s = 30, alpha = 0.7,cmap=plt.cm.gnuplot)\n",
    "plt.xlabel(\"first principle direction\")\n",
    "plt.ylabel(\"second principle direction\")\n",
    "\n",
    "plt.savefig(\"../project1/notebook/X2dim.png\")"
   ]
  },
  {
   "cell_type": "markdown",
   "metadata": {},
   "source": [
    "# logistic regression after PCA"
   ]
  },
  {
   "cell_type": "code",
   "execution_count": 95,
   "metadata": {
    "collapsed": false
   },
   "outputs": [
    {
     "name": "stdout",
     "output_type": "stream",
     "text": [
      "... building the model\n",
      "... training the model\n",
      "epoch 1, minibatch 20/20, validation error 60.466667 %\n",
      "     epoch 1, minibatch 20/20, test error of best model 66.955556 %\n",
      "epoch 2, minibatch 20/20, validation error 55.700000 %\n",
      "     epoch 2, minibatch 20/20, test error of best model 64.355556 %\n",
      "epoch 3, minibatch 20/20, validation error 50.133333 %\n",
      "     epoch 3, minibatch 20/20, test error of best model 59.055556 %\n",
      "epoch 4, minibatch 20/20, validation error 44.700000 %\n",
      "     epoch 4, minibatch 20/20, test error of best model 55.111111 %\n",
      "epoch 5, minibatch 20/20, validation error 42.666667 %\n",
      "     epoch 5, minibatch 20/20, test error of best model 53.677778 %\n",
      "epoch 6, minibatch 20/20, validation error 41.433333 %\n",
      "     epoch 6, minibatch 20/20, test error of best model 52.955556 %\n",
      "epoch 7, minibatch 20/20, validation error 40.500000 %\n",
      "     epoch 7, minibatch 20/20, test error of best model 52.600000 %\n",
      "epoch 8, minibatch 20/20, validation error 40.433333 %\n",
      "     epoch 8, minibatch 20/20, test error of best model 52.255556 %\n",
      "epoch 9, minibatch 20/20, validation error 40.133333 %\n",
      "     epoch 9, minibatch 20/20, test error of best model 51.911111 %\n",
      "epoch 10, minibatch 20/20, validation error 39.600000 %\n",
      "     epoch 10, minibatch 20/20, test error of best model 50.611111 %\n",
      "epoch 11, minibatch 20/20, validation error 38.700000 %\n",
      "     epoch 11, minibatch 20/20, test error of best model 48.933333 %\n",
      "epoch 12, minibatch 20/20, validation error 37.933333 %\n",
      "     epoch 12, minibatch 20/20, test error of best model 47.955556 %\n",
      "epoch 13, minibatch 20/20, validation error 37.866667 %\n",
      "     epoch 13, minibatch 20/20, test error of best model 47.622222 %\n",
      "epoch 14, minibatch 20/20, validation error 38.366667 %\n",
      "epoch 15, minibatch 20/20, validation error 38.666667 %\n",
      "epoch 16, minibatch 20/20, validation error 38.766667 %\n",
      "epoch 17, minibatch 20/20, validation error 38.833333 %\n",
      "epoch 18, minibatch 20/20, validation error 39.000000 %\n",
      "epoch 19, minibatch 20/20, validation error 39.000000 %\n",
      "epoch 20, minibatch 20/20, validation error 39.100000 %\n",
      "epoch 21, minibatch 20/20, validation error 39.100000 %\n",
      "epoch 22, minibatch 20/20, validation error 39.233333 %\n",
      "epoch 23, minibatch 20/20, validation error 39.266667 %\n",
      "epoch 24, minibatch 20/20, validation error 39.233333 %\n",
      "epoch 25, minibatch 20/20, validation error 39.166667 %\n",
      "epoch 26, minibatch 20/20, validation error 39.066667 %\n",
      "epoch 27, minibatch 20/20, validation error 39.033333 %\n",
      "epoch 28, minibatch 20/20, validation error 38.966667 %\n",
      "epoch 29, minibatch 20/20, validation error 38.933333 %\n",
      "epoch 30, minibatch 20/20, validation error 38.900000 %\n",
      "epoch 31, minibatch 20/20, validation error 38.800000 %\n",
      "epoch 32, minibatch 20/20, validation error 38.800000 %\n",
      "epoch 33, minibatch 20/20, validation error 38.833333 %\n",
      "epoch 34, minibatch 20/20, validation error 38.833333 %\n",
      "epoch 35, minibatch 20/20, validation error 38.766667 %\n",
      "epoch 36, minibatch 20/20, validation error 38.733333 %\n",
      "epoch 37, minibatch 20/20, validation error 38.666667 %\n",
      "epoch 38, minibatch 20/20, validation error 38.533333 %\n",
      "epoch 39, minibatch 20/20, validation error 38.533333 %\n",
      "epoch 40, minibatch 20/20, validation error 38.466667 %\n",
      "epoch 41, minibatch 20/20, validation error 38.433333 %\n",
      "epoch 42, minibatch 20/20, validation error 38.366667 %\n",
      "epoch 43, minibatch 20/20, validation error 38.266667 %\n",
      "epoch 44, minibatch 20/20, validation error 38.233333 %\n",
      "epoch 45, minibatch 20/20, validation error 38.166667 %\n",
      "epoch 46, minibatch 20/20, validation error 38.066667 %\n",
      "epoch 47, minibatch 20/20, validation error 38.000000 %\n",
      "epoch 48, minibatch 20/20, validation error 37.966667 %\n",
      "epoch 49, minibatch 20/20, validation error 38.033333 %\n",
      "epoch 50, minibatch 20/20, validation error 38.000000 %\n",
      "epoch 51, minibatch 20/20, validation error 37.900000 %\n",
      "epoch 52, minibatch 20/20, validation error 37.800000 %\n",
      "     epoch 52, minibatch 20/20, test error of best model 46.022222 %\n",
      "epoch 53, minibatch 20/20, validation error 37.733333 %\n",
      "     epoch 53, minibatch 20/20, test error of best model 46.055556 %\n",
      "epoch 54, minibatch 20/20, validation error 37.700000 %\n",
      "     epoch 54, minibatch 20/20, test error of best model 46.044444 %\n",
      "epoch 55, minibatch 20/20, validation error 37.700000 %\n",
      "epoch 56, minibatch 20/20, validation error 37.666667 %\n",
      "     epoch 56, minibatch 20/20, test error of best model 45.977778 %\n",
      "epoch 57, minibatch 20/20, validation error 37.666667 %\n",
      "epoch 58, minibatch 20/20, validation error 37.666667 %\n",
      "epoch 59, minibatch 20/20, validation error 37.666667 %\n",
      "epoch 60, minibatch 20/20, validation error 37.666667 %\n",
      "epoch 61, minibatch 20/20, validation error 37.633333 %\n",
      "     epoch 61, minibatch 20/20, test error of best model 45.911111 %\n",
      "epoch 62, minibatch 20/20, validation error 37.633333 %\n",
      "epoch 63, minibatch 20/20, validation error 37.533333 %\n",
      "     epoch 63, minibatch 20/20, test error of best model 45.922222 %\n",
      "epoch 64, minibatch 20/20, validation error 37.533333 %\n",
      "epoch 65, minibatch 20/20, validation error 37.466667 %\n",
      "     epoch 65, minibatch 20/20, test error of best model 45.855556 %\n",
      "epoch 66, minibatch 20/20, validation error 37.500000 %\n",
      "epoch 67, minibatch 20/20, validation error 37.500000 %\n",
      "epoch 68, minibatch 20/20, validation error 37.500000 %\n",
      "epoch 69, minibatch 20/20, validation error 37.500000 %\n",
      "epoch 70, minibatch 20/20, validation error 37.466667 %\n",
      "epoch 71, minibatch 20/20, validation error 37.433333 %\n",
      "     epoch 71, minibatch 20/20, test error of best model 45.744444 %\n",
      "epoch 72, minibatch 20/20, validation error 37.333333 %\n",
      "     epoch 72, minibatch 20/20, test error of best model 45.766667 %\n",
      "epoch 73, minibatch 20/20, validation error 37.300000 %\n",
      "     epoch 73, minibatch 20/20, test error of best model 45.733333 %\n",
      "epoch 74, minibatch 20/20, validation error 37.233333 %\n",
      "     epoch 74, minibatch 20/20, test error of best model 45.766667 %\n",
      "epoch 75, minibatch 20/20, validation error 37.166667 %\n",
      "     epoch 75, minibatch 20/20, test error of best model 45.766667 %\n",
      "epoch 76, minibatch 20/20, validation error 37.266667 %\n",
      "epoch 77, minibatch 20/20, validation error 37.266667 %\n",
      "epoch 78, minibatch 20/20, validation error 37.200000 %\n",
      "epoch 79, minibatch 20/20, validation error 37.200000 %\n",
      "epoch 80, minibatch 20/20, validation error 37.166667 %\n",
      "epoch 81, minibatch 20/20, validation error 37.133333 %\n",
      "     epoch 81, minibatch 20/20, test error of best model 45.655556 %\n",
      "epoch 82, minibatch 20/20, validation error 37.133333 %\n",
      "epoch 83, minibatch 20/20, validation error 37.133333 %\n",
      "epoch 84, minibatch 20/20, validation error 37.133333 %\n",
      "epoch 85, minibatch 20/20, validation error 37.166667 %\n",
      "epoch 86, minibatch 20/20, validation error 37.133333 %\n",
      "epoch 87, minibatch 20/20, validation error 37.133333 %\n",
      "epoch 88, minibatch 20/20, validation error 37.133333 %\n",
      "epoch 89, minibatch 20/20, validation error 37.166667 %\n",
      "epoch 90, minibatch 20/20, validation error 37.166667 %\n",
      "epoch 91, minibatch 20/20, validation error 37.166667 %\n",
      "epoch 92, minibatch 20/20, validation error 37.100000 %\n",
      "     epoch 92, minibatch 20/20, test error of best model 45.611111 %\n",
      "epoch 93, minibatch 20/20, validation error 37.133333 %\n",
      "epoch 94, minibatch 20/20, validation error 37.133333 %\n",
      "epoch 95, minibatch 20/20, validation error 37.100000 %\n",
      "epoch 96, minibatch 20/20, validation error 37.066667 %\n",
      "     epoch 96, minibatch 20/20, test error of best model 45.666667 %\n",
      "epoch 97, minibatch 20/20, validation error 37.066667 %\n",
      "epoch 98, minibatch 20/20, validation error 37.033333 %\n",
      "     epoch 98, minibatch 20/20, test error of best model 45.688889 %\n",
      "epoch 99, minibatch 20/20, validation error 37.033333 %\n",
      "epoch 100, minibatch 20/20, validation error 36.966667 %\n",
      "     epoch 100, minibatch 20/20, test error of best model 45.644444 %\n",
      "epoch 101, minibatch 20/20, validation error 36.933333 %\n",
      "     epoch 101, minibatch 20/20, test error of best model 45.644444 %\n",
      "epoch 102, minibatch 20/20, validation error 36.966667 %\n",
      "epoch 103, minibatch 20/20, validation error 36.966667 %\n",
      "epoch 104, minibatch 20/20, validation error 36.933333 %\n",
      "epoch 105, minibatch 20/20, validation error 36.900000 %\n",
      "     epoch 105, minibatch 20/20, test error of best model 45.588889 %\n",
      "epoch 106, minibatch 20/20, validation error 36.866667 %\n",
      "     epoch 106, minibatch 20/20, test error of best model 45.566667 %\n",
      "epoch 107, minibatch 20/20, validation error 36.900000 %\n",
      "epoch 108, minibatch 20/20, validation error 36.900000 %\n",
      "epoch 109, minibatch 20/20, validation error 36.833333 %\n",
      "     epoch 109, minibatch 20/20, test error of best model 45.500000 %\n",
      "epoch 110, minibatch 20/20, validation error 36.866667 %\n",
      "epoch 111, minibatch 20/20, validation error 36.833333 %\n",
      "     epoch 111, minibatch 20/20, test error of best model 45.455556 %\n",
      "epoch 112, minibatch 20/20, validation error 36.866667 %\n",
      "epoch 113, minibatch 20/20, validation error 36.900000 %\n",
      "epoch 114, minibatch 20/20, validation error 36.900000 %\n",
      "epoch 115, minibatch 20/20, validation error 36.933333 %\n",
      "epoch 116, minibatch 20/20, validation error 36.900000 %\n",
      "epoch 117, minibatch 20/20, validation error 36.866667 %\n",
      "epoch 118, minibatch 20/20, validation error 36.866667 %\n",
      "epoch 119, minibatch 20/20, validation error 36.833333 %\n",
      "epoch 120, minibatch 20/20, validation error 36.833333 %\n",
      "epoch 121, minibatch 20/20, validation error 36.833333 %\n",
      "epoch 122, minibatch 20/20, validation error 36.833333 %\n",
      "epoch 123, minibatch 20/20, validation error 36.833333 %\n",
      "epoch 124, minibatch 20/20, validation error 36.866667 %\n",
      "epoch 125, minibatch 20/20, validation error 36.866667 %\n",
      "epoch 126, minibatch 20/20, validation error 36.833333 %\n",
      "epoch 127, minibatch 20/20, validation error 36.833333 %\n",
      "epoch 128, minibatch 20/20, validation error 36.766667 %\n",
      "     epoch 128, minibatch 20/20, test error of best model 45.311111 %\n",
      "epoch 129, minibatch 20/20, validation error 36.766667 %\n",
      "epoch 130, minibatch 20/20, validation error 36.766667 %\n",
      "epoch 131, minibatch 20/20, validation error 36.766667 %\n",
      "epoch 132, minibatch 20/20, validation error 36.766667 %\n",
      "epoch 133, minibatch 20/20, validation error 36.766667 %\n",
      "epoch 134, minibatch 20/20, validation error 36.766667 %\n",
      "epoch 135, minibatch 20/20, validation error 36.766667 %\n",
      "epoch 136, minibatch 20/20, validation error 36.766667 %\n",
      "epoch 137, minibatch 20/20, validation error 36.733333 %\n",
      "     epoch 137, minibatch 20/20, test error of best model 45.188889 %\n",
      "epoch 138, minibatch 20/20, validation error 36.733333 %\n",
      "epoch 139, minibatch 20/20, validation error 36.733333 %\n",
      "epoch 140, minibatch 20/20, validation error 36.733333 %\n",
      "epoch 141, minibatch 20/20, validation error 36.733333 %\n",
      "epoch 142, minibatch 20/20, validation error 36.666667 %\n",
      "     epoch 142, minibatch 20/20, test error of best model 45.100000 %\n",
      "epoch 143, minibatch 20/20, validation error 36.666667 %\n",
      "epoch 144, minibatch 20/20, validation error 36.666667 %\n",
      "epoch 145, minibatch 20/20, validation error 36.633333 %\n",
      "     epoch 145, minibatch 20/20, test error of best model 45.100000 %\n",
      "epoch 146, minibatch 20/20, validation error 36.666667 %\n",
      "epoch 147, minibatch 20/20, validation error 36.666667 %\n",
      "epoch 148, minibatch 20/20, validation error 36.666667 %\n",
      "epoch 149, minibatch 20/20, validation error 36.700000 %\n",
      "epoch 150, minibatch 20/20, validation error 36.700000 %\n",
      "epoch 151, minibatch 20/20, validation error 36.666667 %\n",
      "epoch 152, minibatch 20/20, validation error 36.733333 %\n",
      "epoch 153, minibatch 20/20, validation error 36.700000 %\n",
      "epoch 154, minibatch 20/20, validation error 36.700000 %\n",
      "epoch 155, minibatch 20/20, validation error 36.700000 %\n",
      "epoch 156, minibatch 20/20, validation error 36.700000 %\n",
      "epoch 157, minibatch 20/20, validation error 36.700000 %\n",
      "epoch 158, minibatch 20/20, validation error 36.666667 %\n",
      "epoch 159, minibatch 20/20, validation error 36.666667 %\n",
      "epoch 160, minibatch 20/20, validation error 36.633333 %\n",
      "     epoch 160, minibatch 20/20, test error of best model 45.155556 %\n",
      "epoch 161, minibatch 20/20, validation error 36.633333 %\n",
      "epoch 162, minibatch 20/20, validation error 36.633333 %\n",
      "epoch 163, minibatch 20/20, validation error 36.633333 %\n",
      "epoch 164, minibatch 20/20, validation error 36.566667 %\n",
      "     epoch 164, minibatch 20/20, test error of best model 45.122222 %\n",
      "epoch 165, minibatch 20/20, validation error 36.600000 %\n",
      "epoch 166, minibatch 20/20, validation error 36.600000 %\n",
      "epoch 167, minibatch 20/20, validation error 36.600000 %\n",
      "epoch 168, minibatch 20/20, validation error 36.600000 %\n",
      "epoch 169, minibatch 20/20, validation error 36.600000 %\n",
      "epoch 170, minibatch 20/20, validation error 36.600000 %\n",
      "epoch 171, minibatch 20/20, validation error 36.566667 %\n",
      "epoch 172, minibatch 20/20, validation error 36.566667 %\n",
      "epoch 173, minibatch 20/20, validation error 36.566667 %\n",
      "epoch 174, minibatch 20/20, validation error 36.566667 %\n",
      "epoch 175, minibatch 20/20, validation error 36.566667 %\n",
      "epoch 176, minibatch 20/20, validation error 36.566667 %\n",
      "epoch 177, minibatch 20/20, validation error 36.566667 %\n",
      "epoch 178, minibatch 20/20, validation error 36.533333 %\n",
      "     epoch 178, minibatch 20/20, test error of best model 45.166667 %\n",
      "epoch 179, minibatch 20/20, validation error 36.500000 %\n",
      "     epoch 179, minibatch 20/20, test error of best model 45.166667 %\n",
      "epoch 180, minibatch 20/20, validation error 36.500000 %\n",
      "epoch 181, minibatch 20/20, validation error 36.466667 %\n",
      "     epoch 181, minibatch 20/20, test error of best model 45.177778 %\n",
      "epoch 182, minibatch 20/20, validation error 36.500000 %\n",
      "epoch 183, minibatch 20/20, validation error 36.533333 %\n",
      "epoch 184, minibatch 20/20, validation error 36.533333 %\n",
      "epoch 185, minibatch 20/20, validation error 36.533333 %\n",
      "epoch 186, minibatch 20/20, validation error 36.500000 %\n",
      "epoch 187, minibatch 20/20, validation error 36.500000 %\n",
      "epoch 188, minibatch 20/20, validation error 36.466667 %\n",
      "epoch 189, minibatch 20/20, validation error 36.433333 %\n",
      "     epoch 189, minibatch 20/20, test error of best model 45.222222 %\n",
      "epoch 190, minibatch 20/20, validation error 36.400000 %\n",
      "     epoch 190, minibatch 20/20, test error of best model 45.188889 %\n",
      "epoch 191, minibatch 20/20, validation error 36.366667 %\n",
      "     epoch 191, minibatch 20/20, test error of best model 45.200000 %\n",
      "epoch 192, minibatch 20/20, validation error 36.366667 %\n",
      "epoch 193, minibatch 20/20, validation error 36.400000 %\n",
      "epoch 194, minibatch 20/20, validation error 36.400000 %\n",
      "epoch 195, minibatch 20/20, validation error 36.400000 %\n",
      "epoch 196, minibatch 20/20, validation error 36.366667 %\n",
      "epoch 197, minibatch 20/20, validation error 36.333333 %\n",
      "     epoch 197, minibatch 20/20, test error of best model 45.155556 %\n",
      "epoch 198, minibatch 20/20, validation error 36.333333 %\n",
      "epoch 199, minibatch 20/20, validation error 36.333333 %\n",
      "epoch 200, minibatch 20/20, validation error 36.333333 %\n",
      "epoch 201, minibatch 20/20, validation error 36.333333 %\n",
      "epoch 202, minibatch 20/20, validation error 36.333333 %\n",
      "epoch 203, minibatch 20/20, validation error 36.333333 %\n",
      "epoch 204, minibatch 20/20, validation error 36.333333 %\n",
      "epoch 205, minibatch 20/20, validation error 36.333333 %\n",
      "epoch 206, minibatch 20/20, validation error 36.333333 %\n",
      "epoch 207, minibatch 20/20, validation error 36.333333 %\n",
      "epoch 208, minibatch 20/20, validation error 36.333333 %\n",
      "epoch 209, minibatch 20/20, validation error 36.333333 %\n",
      "epoch 210, minibatch 20/20, validation error 36.366667 %\n",
      "epoch 211, minibatch 20/20, validation error 36.366667 %\n",
      "epoch 212, minibatch 20/20, validation error 36.366667 %\n",
      "epoch 213, minibatch 20/20, validation error 36.366667 %\n",
      "epoch 214, minibatch 20/20, validation error 36.366667 %\n",
      "epoch 215, minibatch 20/20, validation error 36.400000 %\n",
      "epoch 216, minibatch 20/20, validation error 36.400000 %\n",
      "epoch 217, minibatch 20/20, validation error 36.400000 %\n",
      "epoch 218, minibatch 20/20, validation error 36.400000 %\n",
      "epoch 219, minibatch 20/20, validation error 36.400000 %\n",
      "epoch 220, minibatch 20/20, validation error 36.366667 %\n",
      "epoch 221, minibatch 20/20, validation error 36.366667 %\n",
      "epoch 222, minibatch 20/20, validation error 36.366667 %\n",
      "epoch 223, minibatch 20/20, validation error 36.366667 %\n",
      "epoch 224, minibatch 20/20, validation error 36.366667 %\n",
      "epoch 225, minibatch 20/20, validation error 36.366667 %\n",
      "epoch 226, minibatch 20/20, validation error 36.400000 %\n",
      "epoch 227, minibatch 20/20, validation error 36.400000 %\n",
      "epoch 228, minibatch 20/20, validation error 36.400000 %\n",
      "epoch 229, minibatch 20/20, validation error 36.400000 %\n",
      "epoch 230, minibatch 20/20, validation error 36.400000 %\n",
      "epoch 231, minibatch 20/20, validation error 36.400000 %\n",
      "epoch 232, minibatch 20/20, validation error 36.400000 %\n",
      "epoch 233, minibatch 20/20, validation error 36.400000 %\n",
      "epoch 234, minibatch 20/20, validation error 36.400000 %\n",
      "epoch 235, minibatch 20/20, validation error 36.400000 %\n",
      "epoch 236, minibatch 20/20, validation error 36.400000 %\n",
      "epoch 237, minibatch 20/20, validation error 36.400000 %\n",
      "epoch 238, minibatch 20/20, validation error 36.400000 %\n",
      "epoch 239, minibatch 20/20, validation error 36.400000 %\n",
      "epoch 240, minibatch 20/20, validation error 36.400000 %\n",
      "epoch 241, minibatch 20/20, validation error 36.400000 %\n",
      "epoch 242, minibatch 20/20, validation error 36.400000 %\n",
      "epoch 243, minibatch 20/20, validation error 36.400000 %\n",
      "epoch 244, minibatch 20/20, validation error 36.366667 %\n",
      "epoch 245, minibatch 20/20, validation error 36.333333 %\n",
      "epoch 246, minibatch 20/20, validation error 36.333333 %\n",
      "epoch 247, minibatch 20/20, validation error 36.333333 %\n",
      "epoch 248, minibatch 20/20, validation error 36.333333 %\n",
      "epoch 249, minibatch 20/20, validation error 36.333333 %\n",
      "epoch 250, minibatch 20/20, validation error 36.333333 %\n",
      "Optimization complete with best validation score of 36.333333 %,with test performance 45.155556 %\n",
      "The code run for 251 epochs, with 45.572182 epochs/sec\n"
     ]
    },
    {
     "name": "stderr",
     "output_type": "stream",
     "text": [
      "The code for file  ran for 5.5s\n"
     ]
    }
   ],
   "source": [
    "X5 = pca_trans.transform(30)\n",
    "sgd(X5, ytrain.values, 30, 8,  learning_rate=0.35, n_epochs=20000, batch_size=150)"
   ]
  },
  {
   "cell_type": "markdown",
   "metadata": {},
   "source": [
    "# LDA"
   ]
  },
  {
   "cell_type": "code",
   "execution_count": 30,
   "metadata": {
    "collapsed": false
   },
   "outputs": [],
   "source": [
    "from LDA import  DA\n"
   ]
  },
  {
   "cell_type": "code",
   "execution_count": 31,
   "metadata": {
    "collapsed": false
   },
   "outputs": [],
   "source": [
    "sample = 10000\n",
    "lda = DA(xtrain.values[:sample,], ytrain.values[:sample,], mode=\"LDA\")\n",
    "lda.fit()"
   ]
  },
  {
   "cell_type": "code",
   "execution_count": 32,
   "metadata": {
    "collapsed": false
   },
   "outputs": [
    {
     "name": "stdout",
     "output_type": "stream",
     "text": [
      "error:  0.8625\n"
     ]
    }
   ],
   "source": [
    "yhat, error = lda.predict(xtrain.values[:sample,], ytrain.values[:sample,])\n",
    "print(\"error: \", error)\n"
   ]
  },
  {
   "cell_type": "code",
   "execution_count": 33,
   "metadata": {
    "collapsed": false
   },
   "outputs": [
    {
     "name": "stdout",
     "output_type": "stream",
     "text": [
      "error:  0.8466796875\n"
     ]
    }
   ],
   "source": [
    "yhat, error = lda.predict(xtrain.values[sample:,], ytrain.values[sample:,])\n",
    "print(\"error: \", error)"
   ]
  },
  {
   "cell_type": "markdown",
   "metadata": {},
   "source": [
    "# LDA with PCA"
   ]
  },
  {
   "cell_type": "code",
   "execution_count": 71,
   "metadata": {
    "collapsed": false
   },
   "outputs": [
    {
     "name": "stdout",
     "output_type": "stream",
     "text": [
      "error:  0.476\n"
     ]
    }
   ],
   "source": [
    "lda = DA(X5[:10000,], ytrain.values[:10000,], mode=\"LDA\")\n",
    "lda.fit()\n",
    "yhat, error = lda.predict(X5[:10000,], ytrain.values[:10000,])\n",
    "print(\"error: \", error)"
   ]
  },
  {
   "cell_type": "code",
   "execution_count": 74,
   "metadata": {
    "collapsed": false
   },
   "outputs": [
    {
     "name": "stdout",
     "output_type": "stream",
     "text": [
      "error:  0.5439453125\n"
     ]
    }
   ],
   "source": [
    "yhat, error = lda.predict(X5[10000:,], ytrain.values[10000:,])\n",
    "print(\"error: \", error)"
   ]
  },
  {
   "cell_type": "markdown",
   "metadata": {},
   "source": [
    "# QDA"
   ]
  },
  {
   "cell_type": "code",
   "execution_count": null,
   "metadata": {
    "collapsed": false
   },
   "outputs": [],
   "source": [
    "sample = 10000\n",
    "qda = DA(xtrain.values[:sample,:10], ytrain.values[:sample], mode=\"QDA\")\n",
    "qda.fit()\n"
   ]
  },
  {
   "cell_type": "code",
   "execution_count": null,
   "metadata": {
    "collapsed": false
   },
   "outputs": [],
   "source": [
    "yhat, error = qda.predict(xtrain.values[:sample,:10], ytrain.values[:sample])\n",
    "print(\"error: \", error)"
   ]
  },
  {
   "cell_type": "code",
   "execution_count": null,
   "metadata": {
    "collapsed": true
   },
   "outputs": [],
   "source": []
  }
 ],
 "metadata": {
  "kernelspec": {
   "display_name": "dataMining",
   "language": "python",
   "name": "datamining"
  },
  "language_info": {
   "codemirror_mode": {
    "name": "ipython",
    "version": 3
   },
   "file_extension": ".py",
   "mimetype": "text/x-python",
   "name": "python",
   "nbconvert_exporter": "python",
   "pygments_lexer": "ipython3",
   "version": "3.4.3"
  }
 },
 "nbformat": 4,
 "nbformat_minor": 0
}
